{
 "cells": [
  {
   "cell_type": "markdown",
   "metadata": {},
   "source": [
    "# Curso: Aprendizaje Automático\n",
    "# Tarea3 - Algoritmos de Machine Learning\n",
    "## Alonso Nuñez Sanchez\n",
    "## Fecha de entrega: 12 agosto 2019"
   ]
  },
  {
   "cell_type": "markdown",
   "metadata": {},
   "source": [
    "Este notebook tiene como objetivo implementar distintos algoritmos de aprendizaje automático.\n",
    "\n",
    "Con el dataset elegido se usarán métodos de clasificación vistos en clase, y una breve investigación sobre los métodos de ensamble, y la aplicación de uno de ellos para comparar los resultados"
   ]
  },
  {
   "cell_type": "markdown",
   "metadata": {},
   "source": [
    "### Importar dependencias, y cargar el dataset"
   ]
  },
  {
   "cell_type": "code",
   "execution_count": 1,
   "metadata": {},
   "outputs": [],
   "source": [
    "import numpy as np\n",
    "import pandas as pd\n",
    "import matplotlib.pyplot as plt\n",
    "\n",
    "data =  pd.read_csv('https://raw.githubusercontent.com/anunezcr/datasets/master/clientes_diarios_clasif.csv')"
   ]
  },
  {
   "cell_type": "markdown",
   "metadata": {},
   "source": [
    "### Revisar el tamañao del data set y ver algunas instancias:"
   ]
  },
  {
   "cell_type": "code",
   "execution_count": 2,
   "metadata": {},
   "outputs": [
    {
     "name": "stdout",
     "output_type": "stream",
     "text": [
      "tamaño: (22633, 14)\n"
     ]
    },
    {
     "data": {
      "text/html": [
       "<div>\n",
       "<style scoped>\n",
       "    .dataframe tbody tr th:only-of-type {\n",
       "        vertical-align: middle;\n",
       "    }\n",
       "\n",
       "    .dataframe tbody tr th {\n",
       "        vertical-align: top;\n",
       "    }\n",
       "\n",
       "    .dataframe thead th {\n",
       "        text-align: right;\n",
       "    }\n",
       "</style>\n",
       "<table border=\"1\" class=\"dataframe\">\n",
       "  <thead>\n",
       "    <tr style=\"text-align: right;\">\n",
       "      <th></th>\n",
       "      <th>id_tienda</th>\n",
       "      <th>tipo_tienda</th>\n",
       "      <th>provincia</th>\n",
       "      <th>supervisor</th>\n",
       "      <th>mes_del_anio</th>\n",
       "      <th>semana_del_anio</th>\n",
       "      <th>es_quincena</th>\n",
       "      <th>es_feriado</th>\n",
       "      <th>dia_de_la_semana</th>\n",
       "      <th>horas_operacion</th>\n",
       "      <th>pos_en_uso</th>\n",
       "      <th>clientes_totales</th>\n",
       "      <th>clientes_vip</th>\n",
       "      <th>volumen</th>\n",
       "    </tr>\n",
       "  </thead>\n",
       "  <tbody>\n",
       "    <tr>\n",
       "      <th>0</th>\n",
       "      <td>12</td>\n",
       "      <td>FS</td>\n",
       "      <td>SAN JOSE</td>\n",
       "      <td>2015622_080</td>\n",
       "      <td>1</td>\n",
       "      <td>1</td>\n",
       "      <td>VERDADERO</td>\n",
       "      <td>Anio Nuevo</td>\n",
       "      <td>Lunes</td>\n",
       "      <td>11</td>\n",
       "      <td>4</td>\n",
       "      <td>210</td>\n",
       "      <td>23.0</td>\n",
       "      <td>medio</td>\n",
       "    </tr>\n",
       "    <tr>\n",
       "      <th>1</th>\n",
       "      <td>12</td>\n",
       "      <td>FS</td>\n",
       "      <td>SAN JOSE</td>\n",
       "      <td>2015622_080</td>\n",
       "      <td>1</td>\n",
       "      <td>1</td>\n",
       "      <td>VERDADERO</td>\n",
       "      <td>NO</td>\n",
       "      <td>Martes</td>\n",
       "      <td>11</td>\n",
       "      <td>4</td>\n",
       "      <td>306</td>\n",
       "      <td>17.0</td>\n",
       "      <td>alto</td>\n",
       "    </tr>\n",
       "    <tr>\n",
       "      <th>2</th>\n",
       "      <td>12</td>\n",
       "      <td>FS</td>\n",
       "      <td>SAN JOSE</td>\n",
       "      <td>2015622_080</td>\n",
       "      <td>1</td>\n",
       "      <td>1</td>\n",
       "      <td>VERDADERO</td>\n",
       "      <td>NO</td>\n",
       "      <td>Miercoles</td>\n",
       "      <td>11</td>\n",
       "      <td>4</td>\n",
       "      <td>203</td>\n",
       "      <td>12.0</td>\n",
       "      <td>medio</td>\n",
       "    </tr>\n",
       "    <tr>\n",
       "      <th>3</th>\n",
       "      <td>12</td>\n",
       "      <td>FS</td>\n",
       "      <td>SAN JOSE</td>\n",
       "      <td>2015622_080</td>\n",
       "      <td>1</td>\n",
       "      <td>1</td>\n",
       "      <td>FALSO</td>\n",
       "      <td>NO</td>\n",
       "      <td>Jueves</td>\n",
       "      <td>11</td>\n",
       "      <td>4</td>\n",
       "      <td>192</td>\n",
       "      <td>13.0</td>\n",
       "      <td>medio</td>\n",
       "    </tr>\n",
       "    <tr>\n",
       "      <th>4</th>\n",
       "      <td>12</td>\n",
       "      <td>FS</td>\n",
       "      <td>SAN JOSE</td>\n",
       "      <td>2015622_080</td>\n",
       "      <td>1</td>\n",
       "      <td>1</td>\n",
       "      <td>FALSO</td>\n",
       "      <td>NO</td>\n",
       "      <td>Viernes</td>\n",
       "      <td>12</td>\n",
       "      <td>4</td>\n",
       "      <td>229</td>\n",
       "      <td>16.0</td>\n",
       "      <td>medio</td>\n",
       "    </tr>\n",
       "  </tbody>\n",
       "</table>\n",
       "</div>"
      ],
      "text/plain": [
       "   id_tienda tipo_tienda provincia   supervisor  mes_del_anio  \\\n",
       "0         12          FS  SAN JOSE  2015622_080             1   \n",
       "1         12          FS  SAN JOSE  2015622_080             1   \n",
       "2         12          FS  SAN JOSE  2015622_080             1   \n",
       "3         12          FS  SAN JOSE  2015622_080             1   \n",
       "4         12          FS  SAN JOSE  2015622_080             1   \n",
       "\n",
       "   semana_del_anio  es_quincena  es_feriado dia_de_la_semana  horas_operacion  \\\n",
       "0                1   VERDADERO   Anio Nuevo            Lunes               11   \n",
       "1                1   VERDADERO          NO            Martes               11   \n",
       "2                1   VERDADERO          NO         Miercoles               11   \n",
       "3                1       FALSO          NO            Jueves               11   \n",
       "4                1       FALSO          NO           Viernes               12   \n",
       "\n",
       "   pos_en_uso  clientes_totales  clientes_vip volumen  \n",
       "0           4               210          23.0   medio  \n",
       "1           4               306          17.0    alto  \n",
       "2           4               203          12.0   medio  \n",
       "3           4               192          13.0   medio  \n",
       "4           4               229          16.0   medio  "
      ]
     },
     "execution_count": 2,
     "metadata": {},
     "output_type": "execute_result"
    }
   ],
   "source": [
    "print(\"tamaño:\",data.shape)\n",
    "data.head(5)"
   ]
  },
  {
   "cell_type": "markdown",
   "metadata": {},
   "source": [
    "### Elegir qué columnas usar:"
   ]
  },
  {
   "cell_type": "code",
   "execution_count": 3,
   "metadata": {},
   "outputs": [],
   "source": [
    "#Version1, usar 6 features:\n",
    "#cols_to_use = ['provincia', 'mes_del_anio', 'es_quincena','dia_de_la_semana','horas_operacion','pos_en_uso','volumen']\n",
    "\n",
    "#Versión2, usar 4 features (Version1 - 2 features de menor relevancia):\n",
    "#cols_to_use = ['provincia', 'dia_de_la_semana','horas_operacion','pos_en_uso','volumen']\n",
    "\n",
    "#Versión3, usar 6 features (Version2 + 2 nuevos feautures)\n",
    "cols_to_use = ['tipo_tienda', 'provincia', 'dia_de_la_semana','horas_operacion','pos_en_uso','id_tienda','volumen']\n",
    "\n",
    "data = data[cols_to_use]"
   ]
  },
  {
   "cell_type": "markdown",
   "metadata": {},
   "source": [
    "# Inicia Pre-Procesado"
   ]
  },
  {
   "cell_type": "markdown",
   "metadata": {},
   "source": [
    "### Convertir features categóricos en numéricos"
   ]
  },
  {
   "cell_type": "code",
   "execution_count": 4,
   "metadata": {},
   "outputs": [],
   "source": [
    "data['provincia'] = data['provincia'].replace({'SAN JOSE' : 1,'ALAJUELA' : 2,'CARTAGO' : 3,'HEREDIA' : 4,'LIMON' : 5,'GUANACASTE' : 6,'PUNTARENAS' : 7})\n",
    "data['dia_de_la_semana'] = data['dia_de_la_semana'].replace({'Lunes' : 1,'Martes' : 2,'Miercoles' : 3,'Jueves' : 4,'Viernes' : 5,'Sabado' : 6,'Domingo' : 7})\n",
    "data['volumen'] = data['volumen'].replace({'alto' : 1,'medio' : 2,'bajo' : 3})\n",
    "data['tipo_tienda'] = data['tipo_tienda'].replace({'FS' : 1,'IS' : 2,'Mall' : 3})\n",
    "\n",
    "#comentar la siguiente linea si se usan 4 features en lugar de 6\n",
    "#data['es_quincena'] = data['es_quincena'].replace({' VERDADERO ' : 1,' FALSO ' : 0})"
   ]
  },
  {
   "cell_type": "markdown",
   "metadata": {},
   "source": [
    "### Revisar cómo quedó después de eliminar los categóricos:"
   ]
  },
  {
   "cell_type": "code",
   "execution_count": 5,
   "metadata": {},
   "outputs": [
    {
     "name": "stdout",
     "output_type": "stream",
     "text": [
      "tamaño: (22633, 7)\n"
     ]
    },
    {
     "data": {
      "text/html": [
       "<div>\n",
       "<style scoped>\n",
       "    .dataframe tbody tr th:only-of-type {\n",
       "        vertical-align: middle;\n",
       "    }\n",
       "\n",
       "    .dataframe tbody tr th {\n",
       "        vertical-align: top;\n",
       "    }\n",
       "\n",
       "    .dataframe thead th {\n",
       "        text-align: right;\n",
       "    }\n",
       "</style>\n",
       "<table border=\"1\" class=\"dataframe\">\n",
       "  <thead>\n",
       "    <tr style=\"text-align: right;\">\n",
       "      <th></th>\n",
       "      <th>tipo_tienda</th>\n",
       "      <th>provincia</th>\n",
       "      <th>dia_de_la_semana</th>\n",
       "      <th>horas_operacion</th>\n",
       "      <th>pos_en_uso</th>\n",
       "      <th>id_tienda</th>\n",
       "      <th>volumen</th>\n",
       "    </tr>\n",
       "  </thead>\n",
       "  <tbody>\n",
       "    <tr>\n",
       "      <th>0</th>\n",
       "      <td>1</td>\n",
       "      <td>1</td>\n",
       "      <td>1</td>\n",
       "      <td>11</td>\n",
       "      <td>4</td>\n",
       "      <td>12</td>\n",
       "      <td>2</td>\n",
       "    </tr>\n",
       "    <tr>\n",
       "      <th>1</th>\n",
       "      <td>1</td>\n",
       "      <td>1</td>\n",
       "      <td>2</td>\n",
       "      <td>11</td>\n",
       "      <td>4</td>\n",
       "      <td>12</td>\n",
       "      <td>1</td>\n",
       "    </tr>\n",
       "    <tr>\n",
       "      <th>2</th>\n",
       "      <td>1</td>\n",
       "      <td>1</td>\n",
       "      <td>3</td>\n",
       "      <td>11</td>\n",
       "      <td>4</td>\n",
       "      <td>12</td>\n",
       "      <td>2</td>\n",
       "    </tr>\n",
       "    <tr>\n",
       "      <th>3</th>\n",
       "      <td>1</td>\n",
       "      <td>1</td>\n",
       "      <td>4</td>\n",
       "      <td>11</td>\n",
       "      <td>4</td>\n",
       "      <td>12</td>\n",
       "      <td>2</td>\n",
       "    </tr>\n",
       "    <tr>\n",
       "      <th>4</th>\n",
       "      <td>1</td>\n",
       "      <td>1</td>\n",
       "      <td>5</td>\n",
       "      <td>12</td>\n",
       "      <td>4</td>\n",
       "      <td>12</td>\n",
       "      <td>2</td>\n",
       "    </tr>\n",
       "  </tbody>\n",
       "</table>\n",
       "</div>"
      ],
      "text/plain": [
       "   tipo_tienda provincia  dia_de_la_semana  horas_operacion  pos_en_uso  \\\n",
       "0            1         1                 1               11           4   \n",
       "1            1         1                 2               11           4   \n",
       "2            1         1                 3               11           4   \n",
       "3            1         1                 4               11           4   \n",
       "4            1         1                 5               12           4   \n",
       "\n",
       "   id_tienda  volumen  \n",
       "0         12        2  \n",
       "1         12        1  \n",
       "2         12        2  \n",
       "3         12        2  \n",
       "4         12        2  "
      ]
     },
     "execution_count": 5,
     "metadata": {},
     "output_type": "execute_result"
    }
   ],
   "source": [
    "print(\"tamaño:\",data.shape)\n",
    "data.head(5)"
   ]
  },
  {
   "cell_type": "markdown",
   "metadata": {},
   "source": [
    "### Convertir zeros en NaN y borrar NaNs"
   ]
  },
  {
   "cell_type": "code",
   "execution_count": 6,
   "metadata": {},
   "outputs": [
    {
     "name": "stdout",
     "output_type": "stream",
     "text": [
      "shape antes:  (22633, 7)\n",
      "\n",
      "shape después:  (21794, 7)\n"
     ]
    }
   ],
   "source": [
    "print (\"shape antes: \", data.shape)\n",
    "data = data.replace(0,np.NaN) \n",
    "#data.isnull().values.any()   #preguntar si hay NaN\n",
    "data = data.dropna()\n",
    "print (\"\\nshape después: \", data.shape)"
   ]
  },
  {
   "cell_type": "markdown",
   "metadata": {},
   "source": [
    "# Inicia el trabajo con los modelos elegidos, que serán:\n",
    "   **DecisionTree**\n",
    "\n",
    "   **RandomForest**\n",
    "\n",
    "   **SVC**\n",
    "\n",
    "   **GradientBoosting (método de ensamble elegido después de probar varios)**\n",
    "\n",
    "\n",
    "Después de varias pruebas se definieron 3 versiones de features elegidos, obteniendo los mejores resultados con la version 3:\n",
    "\n",
    "**Version1:** features = data[['provincia', 'mes_del_anio', 'es_quincena','dia_de_la_semana','horas_operacion','pos_en_uso']]\n",
    "\n",
    "**Version2:** features = data[['provincia', 'dia_de_la_semana','horas_operacion','pos_en_uso']]\n",
    "\n",
    "**Version3:** features = data[['tipo_tienda','provincia', 'dia_de_la_semana','horas_operacion','pos_en_uso','id_tienda']]\n",
    "\n",
    "\n",
    "\n"
   ]
  },
  {
   "cell_type": "markdown",
   "metadata": {},
   "source": [
    "### Importar librerías varias para manejo de modelos"
   ]
  },
  {
   "cell_type": "code",
   "execution_count": 7,
   "metadata": {},
   "outputs": [],
   "source": [
    "from sklearn.model_selection import train_test_split\n",
    "from sklearn.tree import DecisionTreeClassifier\n",
    "from sklearn.ensemble import RandomForestClassifier\n",
    "from sklearn.svm import SVC\n",
    "from sklearn.ensemble import GradientBoostingClassifier\n",
    "from sklearn.ensemble import VotingClassifier\n",
    "\n",
    "from sklearn.metrics import accuracy_score"
   ]
  },
  {
   "cell_type": "markdown",
   "metadata": {},
   "source": [
    "Determinar cuáles columnas son features y cuáles labels.\n",
    "\n",
    "En este caso las clases están dadas por \"volumen\" que indica si es un día alto volumen (cantidad de clientes), medio o bajo"
   ]
  },
  {
   "cell_type": "code",
   "execution_count": 8,
   "metadata": {},
   "outputs": [],
   "source": [
    "#Version1: usar 6 features:\n",
    "#features = data[['provincia', 'mes_del_anio', 'es_quincena','dia_de_la_semana','horas_operacion','pos_en_uso']]\n",
    "\n",
    "#Version2: usar 4 features (quitando 2 de menor relevancia):\n",
    "#features = data[['provincia', 'dia_de_la_semana','horas_operacion','pos_en_uso']]\n",
    "\n",
    "#Version3: usar 6 features (Version2 + 2 nuevos):\n",
    "features = data[['tipo_tienda','provincia', 'dia_de_la_semana','horas_operacion','pos_en_uso','id_tienda']]\n",
    "\n",
    "\n",
    "labels = data['volumen']"
   ]
  },
  {
   "cell_type": "markdown",
   "metadata": {},
   "source": [
    "Separa set de entrenamiento y set de pruebas\n",
    "Con una proporción 75% - 25%"
   ]
  },
  {
   "cell_type": "code",
   "execution_count": 9,
   "metadata": {},
   "outputs": [],
   "source": [
    "X_train,X_test, y_train, y_test = train_test_split(features, labels, test_size=0.25, random_state = 13) "
   ]
  },
  {
   "cell_type": "code",
   "execution_count": 10,
   "metadata": {},
   "outputs": [
    {
     "name": "stdout",
     "output_type": "stream",
     "text": [
      "shape del dataset completo:  (21794, 7)\n",
      "\n",
      "shape del set de entrenamiento:  (16345, 6)\n",
      "\n",
      "shape del set de pruebas:  (5449,)\n"
     ]
    }
   ],
   "source": [
    "print (\"shape del dataset completo: \", data.shape)\n",
    "print (\"\\nshape del set de entrenamiento: \", X_train.shape)\n",
    "print (\"\\nshape del set de pruebas: \", y_test.shape)"
   ]
  },
  {
   "cell_type": "markdown",
   "metadata": {},
   "source": [
    "## Modelo clasificador usando algoritmo DecisionTree"
   ]
  },
  {
   "cell_type": "code",
   "execution_count": 11,
   "metadata": {},
   "outputs": [
    {
     "name": "stdout",
     "output_type": "stream",
     "text": [
      "Accuracy para DecisionTree: 0.8954\n"
     ]
    }
   ],
   "source": [
    "DecisionTreeModel = DecisionTreeClassifier(max_depth = 13)\n",
    "\n",
    "#entrenamiento\n",
    "DecisionTreeModel.fit(X_train, y_train)\n",
    "\n",
    "#prediccion (usar datos de test)\n",
    "y_predict = DecisionTreeModel.predict(X_test)\n",
    "\n",
    "print(\"Accuracy para DecisionTree: {:.4f}\".format(accuracy_score(y_test, y_predict)))"
   ]
  },
  {
   "cell_type": "markdown",
   "metadata": {},
   "source": [
    "Después de probar varios valores para max_depth y features, la combinación con mejores resultados es:\n",
    "    \n",
    "    6 Features: 'tipo_tienda', 'provincia', 'dia_de_la_semana','horas_operacion','pos_en_uso','id_tienda'\n",
    "    min_samples_leaf=11, max_depth = None"
   ]
  },
  {
   "cell_type": "markdown",
   "metadata": {},
   "source": [
    "## Modelo clasificador usando algoritmo RandomForest"
   ]
  },
  {
   "cell_type": "code",
   "execution_count": 12,
   "metadata": {
    "scrolled": true
   },
   "outputs": [
    {
     "name": "stdout",
     "output_type": "stream",
     "text": [
      "Accuracy para Random Forest:     0.8981\n"
     ]
    }
   ],
   "source": [
    "RandomForestModel = RandomForestClassifier(min_samples_leaf=3, min_samples_split=18, n_estimators=700, max_depth = None, random_state = 10)\n",
    "\n",
    "#entrenamiento\n",
    "RandomForestModel.fit(X_train, y_train)\n",
    "\n",
    "#prediccion (usar datos de test)\n",
    "y_predict = RandomForestModel.predict(X_test)\n",
    "\n",
    "print(\"Accuracy para Random Forest:     {:.4f}\".format(accuracy_score(y_test, y_predict)))"
   ]
  },
  {
   "cell_type": "markdown",
   "metadata": {},
   "source": [
    "Después de probar varios valores para los hiperparámetros, la combinación que dio los mejores resultados fue:\n",
    "\n",
    "    6 Features: 'tipo_tienda', 'provincia', 'dia_de_la_semana','horas_operacion','pos_en_uso','id_tienda'\n",
    "    min_samples_leaf=3, min_samples_split=18, n_estimators=700, max_depth = None    "
   ]
  },
  {
   "cell_type": "markdown",
   "metadata": {},
   "source": [
    "## Modelo clasificador usando algoritmo SVC"
   ]
  },
  {
   "cell_type": "code",
   "execution_count": 13,
   "metadata": {},
   "outputs": [
    {
     "name": "stdout",
     "output_type": "stream",
     "text": [
      "Accuracy para training con SVC: 0.9139\n",
      "Accuracy para test con SVC:     0.8961\n"
     ]
    }
   ],
   "source": [
    "svc = SVC(gamma='auto')\n",
    "svc.fit(X_train, y_train)\n",
    "print(\"Accuracy para training con SVC: {:.4f}\".format(svc.score(X_train, y_train)))\n",
    "print(\"Accuracy para test con SVC:     {:.4f}\".format(svc.score(X_test, y_test)))"
   ]
  },
  {
   "cell_type": "markdown",
   "metadata": {},
   "source": [
    "Después de probar varios valores para los hiperparámetros, la combinación que dio los mejores resultados fue:\n",
    "\n",
    "    6 Features: 'tipo_tienda', 'provincia', 'dia_de_la_semana','horas_operacion','pos_en_uso','id_tienda'\n",
    "    C= no definirlo (default), gamma = 'auto'. Distintos valores de C y gamma no cambiaban el resultado"
   ]
  },
  {
   "cell_type": "markdown",
   "metadata": {},
   "source": [
    "## Modelo clasificador usando algoritmo de ensamble GradientBoosting"
   ]
  },
  {
   "cell_type": "code",
   "execution_count": 18,
   "metadata": {},
   "outputs": [
    {
     "name": "stdout",
     "output_type": "stream",
     "text": [
      "Accuracy para GradientBoosting:     0.9002\n"
     ]
    }
   ],
   "source": [
    "GradientBoostingModel = GradientBoostingClassifier(learning_rate=0.6, max_depth=4, max_leaf_nodes=15)\n",
    "\n",
    "#entrenamiento\n",
    "GradientBoostingModel.fit(X_train, y_train)\n",
    "\n",
    "#prediccion (usar datos de test)\n",
    "y_predict = GradientBoostingModel.predict(X_test)\n",
    "\n",
    "print(\"Accuracy para GradientBoosting:     {:.4f}\".format(accuracy_score(y_test, y_predict)))\n"
   ]
  },
  {
   "cell_type": "markdown",
   "metadata": {},
   "source": [
    "Después de probar varios valores para los hiperparámetros, la combinación que dio los mejores resultados fue:\n",
    "\n",
    "    6 Features: 'tipo_tienda', 'provincia', 'dia_de_la_semana','horas_operacion','pos_en_uso','id_tienda'\n",
    "    learning_rate=0.6, max_depth=4, max_leaf_nodes=15."
   ]
  },
  {
   "cell_type": "markdown",
   "metadata": {},
   "source": [
    "### Con los 3 primeros métodos utilizados los resultados fueron similares. Podríamos decir que Random Forest tuvo el mejor score pero por muy poco (89.81% vrs 89.61 de SVC)\n",
    "\n",
    "### Con el método de emsamble GradientBoosting mejoró levemente, llegando a 90.02%"
   ]
  },
  {
   "cell_type": "markdown",
   "metadata": {},
   "source": [
    "### Mejores resultados para DecisionTree"
   ]
  },
  {
   "cell_type": "markdown",
   "metadata": {},
   "source": [
    "Método | Features | Profundidad Max | Resultado | Mejores resultados\n",
    "------------ | ------------- | ------------- | ------------- | ------------- \n",
    "DT | v1 | 5 | 79.44% | \n",
    "DT | v1 | 8 | 81.32% | ** mejor en v1\n",
    "DT | v1 | 10 | 81.21% | \n",
    "DT | v1 | 20 | 78.52% | \n",
    "-- | -- | -- | -- | \n",
    "DT | v2 | 8 | 81.20% | \n",
    "DT | v2 | 10 | 82.38% | \n",
    "DT | v2 | 20 | 82.54% | ** mejor en v2\n",
    "-- | -- | -- | -- | \n",
    "DT | v3 | 8 | 87.97% | \n",
    "DT | v3 | 10 | 89.13% | \n",
    "DT | v3 | 13 | 89.58% | ** mejor en v3\n",
    "DT | v3 | 15 | 89.31% | \n",
    "DT | v3 | 20 | 86.26% | "
   ]
  },
  {
   "cell_type": "markdown",
   "metadata": {},
   "source": [
    "### Mejores resultados para RandomForest"
   ]
  },
  {
   "cell_type": "markdown",
   "metadata": {},
   "source": [
    "Método | Features | Leaf | Split | Estimators | Profundidad Max | Resultado  | Mejores resultados\n",
    "------------ | ------------- | ------------- | -------------  | -------------  | -------------  | -------------  | ------------- \n",
    "RF | v1 | 10 | 10 | 600 | None | 81.37% |\n",
    "-- | -- | -- | -- |  -- |  -- |  -- |\n",
    "RF | v2 | 3 | 20 | 1000 | None | 82.41% |\n",
    "RF | v2 | 10 | 20 | 1000 | None | 82.51% |\n",
    "RF | v2 | 10 | 10 | 600 | None | 82.51% | ** mejor en v2\n",
    "-- | -- | -- | -- |  -- |  -- |  -- |\n",
    "RF | v3 | 3 | 10 | 600 | None | 89.68% | \n",
    "RF | v3 | 3 | 18 | 600 | None | 89.79% | \n",
    "RF | v3 | 3 | 18 | 700 | None | 89.81% | ** mejor en v3\n",
    "RF | v3 | 10 | 10 | 600 | None | 89.41% |\n",
    "\n"
   ]
  },
  {
   "cell_type": "markdown",
   "metadata": {},
   "source": [
    "### Mejores resultados para SVC"
   ]
  },
  {
   "cell_type": "markdown",
   "metadata": {},
   "source": [
    "Método | Features | C | Gamma | Resultado | Mejores resultados\n",
    "------------ | ------------- | ------------- | ------------- | -------------  | ------------- \n",
    "SVC | v3 | N/D | Auto  | 89.61% | "
   ]
  },
  {
   "cell_type": "markdown",
   "metadata": {},
   "source": [
    "### Mejores resultados para GradientBoosting"
   ]
  },
  {
   "cell_type": "markdown",
   "metadata": {},
   "source": [
    "Método | Features | max_depth | max_leaf_nodes | learning_rate | ResultadoResultado | Mejores resultados\n",
    "------------ | ------------- | ------------- | ------------- | -------------  | -------------   | ------------- \n",
    "GB | v3 | 4 | 15 | 0.6 |90.02% | \n"
   ]
  },
  {
   "cell_type": "markdown",
   "metadata": {},
   "source": [
    "## Mostrar los features de mayor relevancia"
   ]
  },
  {
   "cell_type": "code",
   "execution_count": 15,
   "metadata": {},
   "outputs": [
    {
     "data": {
      "text/plain": [
       "<matplotlib.axes._subplots.AxesSubplot at 0x1d4fe208>"
      ]
     },
     "execution_count": 15,
     "metadata": {},
     "output_type": "execute_result"
    },
    {
     "data": {
      "image/png": "[encoded data removed]",
      "text/plain": [
       "<Figure size 432x288 with 1 Axes>"
      ]
     },
     "metadata": {},
     "output_type": "display_data"
    }
   ],
   "source": [
    "importances = pd.DataFrame({'feature' : X_train.columns, 'importance': RandomForestModel.feature_importances_})\n",
    "importances = importances.sort_values('importance', ascending = False).set_index('feature')\n",
    "importances.head(9)\n",
    "from matplotlib import pyplot as plt\n",
    "plt.style.use('ggplot')\n",
    "importances.plot.bar()"
   ]
  },
  {
   "cell_type": "markdown",
   "metadata": {},
   "source": [
    "# Métodos de ensamble"
   ]
  },
  {
   "cell_type": "markdown",
   "metadata": {},
   "source": [
    "Los métodos de ensamble buscan mejorar los resultados de los métodos \"convencionales\".\n",
    "Básicamente consiste en usar varios modelos de aprendizaje y así mejorar el resultado combinando varios métodos, mejor que lo que se podría obtener con cada uno individualmente\n",
    "\n",
    "En general se conocen como método de ensamble a aquel que usa varios métodos de la misma familia, y Sistema de Aprendizaje Multiple al que usa métodos diferentes entre sí\n",
    "\n",
    "Algunos métodos:"
   ]
  },
  {
   "cell_type": "markdown",
   "metadata": {},
   "source": [
    "### Agregación Bootstrap"
   ]
  },
  {
   "cell_type": "markdown",
   "metadata": {},
   "source": [
    "Este método, también conocido como Bagging.\n",
    "Se suele usar con algoritmos de árbol, pero se pueden aplicar par cualquier familia\n",
    "\n",
    "Consiste en tomar un conjunto de entrenamiento de tamaño n, y generar m subconjuntos de tamaño n' .\n",
    "Con esto se obtienen m modelos de aprendizaje indivuales.\n",
    "El resultado final de la combinación se obtiene por votación (en caso de clasificación) \n",
    "o por la media de las m respuestas (en caso de regresión)"
   ]
  },
  {
   "cell_type": "markdown",
   "metadata": {},
   "source": [
    "### Boosting"
   ]
  },
  {
   "cell_type": "markdown",
   "metadata": {},
   "source": [
    "Este método trabaja siempre con el mismo se de datos de entrenamiento (no lo divide como Bootstrap) iterando varias veces.\n",
    "En cada iteración modifica los pesos de los objetos mal clasificados.\n",
    "Modificando los pesos de los objetos mal clasificados, se busca que en la siguiente iteración tengan mayor importancia y por lo tanto sea más probable clasficarlos bien"
   ]
  }
 ],
 "metadata": {
  "kernelspec": {
   "display_name": "Python 3",
   "language": "python",
   "name": "python3"
  },
  "language_info": {
   "codemirror_mode": {
    "name": "ipython",
    "version": 3
   },
   "file_extension": ".py",
   "mimetype": "text/x-python",
   "name": "python",
   "nbconvert_exporter": "python",
   "pygments_lexer": "ipython3",
   "version": "3.7.3"
  }
 },
 "nbformat": 4,
 "nbformat_minor": 2
}
